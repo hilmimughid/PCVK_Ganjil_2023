{
  "nbformat": 4,
  "nbformat_minor": 0,
  "metadata": {
    "colab": {
      "provenance": [],
      "authorship_tag": "ABX9TyN+nUOClB7iGYYQF8Yk62vH",
      "include_colab_link": true
    },
    "kernelspec": {
      "name": "python3",
      "display_name": "Python 3"
    },
    "language_info": {
      "name": "python"
    }
  },
  "cells": [
    {
      "cell_type": "markdown",
      "metadata": {
        "id": "view-in-github",
        "colab_type": "text"
      },
      "source": [
        "<a href=\"https://colab.research.google.com/github/hilmimughid/PCVK_Ganjil_2023/blob/main/Week_8.ipynb\" target=\"_parent\"><img src=\"https://colab.research.google.com/assets/colab-badge.svg\" alt=\"Open In Colab\"/></a>"
      ]
    },
    {
      "cell_type": "markdown",
      "source": [
        "# **Nama: Hilmi Mughid**\n",
        "\n",
        "# **Kelas: TI-3C**\n",
        "\n",
        "# **No. Absen: 09**\n",
        "\n",
        "# **NIM: 2141720081**"
      ],
      "metadata": {
        "id": "TiEUzjdx0C4I"
      }
    },
    {
      "cell_type": "code",
      "execution_count": null,
      "metadata": {
        "id": "z8W8CPoC_0Dw"
      },
      "outputs": [],
      "source": []
    }
  ]
}
