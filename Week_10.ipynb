{
  "nbformat": 4,
  "nbformat_minor": 0,
  "metadata": {
    "colab": {
      "provenance": [],
      "authorship_tag": "ABX9TyN+nUOClB7iGYYQF8Yk62vH",
      "include_colab_link": true
    },
    "kernelspec": {
      "name": "python3",
      "display_name": "Python 3"
    },
    "language_info": {
      "name": "python"
    }
  },
  "cells": [
    {
      "cell_type": "markdown",
      "metadata": {
        "id": "view-in-github",
        "colab_type": "text"
      },
      "source": [
        "<a href=\"https://colab.research.google.com/github/hilmimughid/PCVK_Ganjil_2023/blob/main/Week_10.ipynb\" target=\"_parent\"><img src=\"https://colab.research.google.com/assets/colab-badge.svg\" alt=\"Open In Colab\"/></a>"
      ]
    },
    {
      "cell_type": "markdown",
      "source": [
        "# **Nama: Hilmi Mughid**\n",
        "\n",
        "# **Kelas: TI-3C**\n",
        "\n",
        "# **No. Absen: 09**\n",
        "\n",
        "# **NIM: 2141720081**"
      ],
      "metadata": {
        "id": "FRS1aRhLJ5dj"
      }
    },
    {
      "cell_type": "code",
      "execution_count": null,
      "metadata": {
        "id": "lAHxpkL1J1mM"
      },
      "outputs": [],
      "source": []
    }
  ]
}